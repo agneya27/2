{
 "cells": [
  {
   "cell_type": "code",
   "execution_count": 1,
   "id": "3241fbc2",
   "metadata": {},
   "outputs": [],
   "source": [
    "mini = -1000"
   ]
  },
  {
   "cell_type": "code",
   "execution_count": 2,
   "id": "724b6646",
   "metadata": {},
   "outputs": [],
   "source": [
    "maxi = 1000"
   ]
  },
  {
   "cell_type": "code",
   "execution_count": 3,
   "id": "77785c2c",
   "metadata": {},
   "outputs": [
    {
     "name": "stdout",
     "output_type": "stream",
     "text": [
      "6\n"
     ]
    }
   ],
   "source": [
    "mini , maxi = -1000, 1000\n",
    "def minimax(depth, nodeIndex, maxplay, values, alpha, beta):\n",
    "    if depth == 3:\n",
    "        return values[nodeIndex]\n",
    "    \n",
    "    if maxplay:\n",
    "        best = mini\n",
    "        for i in range(0,2):\n",
    "            val = minimax(depth+1,nodeIndex*2+i,False,values,alpha,beta)\n",
    "            best = max(best,val)\n",
    "            alpha = max(alpha,best)\n",
    "            if beta <= alpha:\n",
    "                break\n",
    "        return best\n",
    "    \n",
    "    else:\n",
    "        best = maxi\n",
    "        for i in range(0,2):\n",
    "            val = minimax(depth+1,nodeIndex*2+i,True,values,alpha,beta)\n",
    "            best = min(best,val)\n",
    "            beta = min(beta,best)\n",
    "            if beta <= alpha:\n",
    "                break\n",
    "        return best\n",
    "\n",
    "\n",
    "if __name__ == \"__main__\":\n",
    "    values = [3,2,8,4,1,9,6,5]\n",
    "    print(minimax(0,0,True,values,mini,maxi))\n",
    "   "
   ]
  },
  {
   "cell_type": "code",
   "execution_count": 10,
   "id": "fbf55b9b",
   "metadata": {},
   "outputs": [
    {
     "name": "stdout",
     "output_type": "stream",
     "text": [
      "\n",
      "                              5\n",
      "\n",
      "                    G\n",
      "\n",
      "                              6\n",
      "\n",
      "          c\n",
      "\n",
      "                              9\n",
      "\n",
      "                    F\n",
      "\n",
      "                              1\n",
      "\n",
      "A\n",
      "\n",
      "                              4\n",
      "\n",
      "                    E\n",
      "\n",
      "                              8\n",
      "\n",
      "          B\n",
      "\n",
      "                              2\n",
      "\n",
      "                    D\n",
      "\n",
      "                              3\n"
     ]
    }
   ],
   "source": [
    "COUNT = [10]\n",
    "\n",
    "class newNode:\n",
    "\n",
    "    def __init__(self, key):\n",
    "        self.data = key\n",
    "        self.left = None\n",
    "        self.right = None\n",
    "\n",
    "def print2DUtil(root, space):\n",
    "    if (root == None):\n",
    "        return\n",
    "\n",
    "    space += COUNT[0]\n",
    "    print2DUtil(root.right, space)\n",
    "    print()\n",
    "    for i in range(COUNT[0], space):\n",
    "        print(end=\" \")\n",
    "    print(root.data)\n",
    "    print2DUtil(root.left, space)\n",
    "\n",
    "\n",
    "def print2D(root):\n",
    "    print2DUtil(root, 0)\n",
    "\n",
    "\n",
    "# Driver Code\n",
    "if __name__ == '__main__':\n",
    "\n",
    "    root = newNode(\"A\")\n",
    "    root.left = newNode(\"B\")\n",
    "    root.right = newNode(\"c\")\n",
    "\n",
    "    root.left.left = newNode(\"D\")\n",
    "    root.left.right = newNode(\"E\")\n",
    "    root.right.left = newNode(\"F\")\n",
    "    root.right.right = newNode(\"G\")\n",
    "\n",
    "    root.left.left.left = newNode(3)\n",
    "    root.left.left.right = newNode(2)\n",
    "    root.left.right.left = newNode(8)\n",
    "    root.left.right.right = newNode(4)\n",
    "    root.right.left.left = newNode(1)\n",
    "    root.right.left.right = newNode(9)\n",
    "    root.right.right.left = newNode(6)\n",
    "    root.right.right.right = newNode(5)\n",
    "\n",
    "    print2D(root)\n"
   ]
  },
  {
   "cell_type": "code",
   "execution_count": null,
   "id": "cc52c0e0",
   "metadata": {},
   "outputs": [],
   "source": []
  }
 ],
 "metadata": {
  "kernelspec": {
   "display_name": "Python 3 (ipykernel)",
   "language": "python",
   "name": "python3"
  },
  "language_info": {
   "codemirror_mode": {
    "name": "ipython",
    "version": 3
   },
   "file_extension": ".py",
   "mimetype": "text/x-python",
   "name": "python",
   "nbconvert_exporter": "python",
   "pygments_lexer": "ipython3",
   "version": "3.11.5"
  }
 },
 "nbformat": 4,
 "nbformat_minor": 5
}
